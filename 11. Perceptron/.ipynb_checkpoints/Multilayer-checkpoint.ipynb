{
 "cells": [
  {
   "cell_type": "code",
   "execution_count": null,
   "id": "e3ddd54a-11a6-4ad4-a273-d4294260b24a",
   "metadata": {},
   "outputs": [],
   "source": [
    "import tensorflow as tf\n",
    "from tensorflow.keras.models import Sequential\n",
    "from tensorflow.keras.layers import Dense\n",
    "import numpy as np\n",
    "# Define the dataset for the OR problem\n",
    "# Inputs: X = [x1, x2]\n",
    "# Outputs: y = [0, 1, 1, 1]\n",
    "X = np.array([[0, 0], # Input 1\n",
    "[0, 1], # Input 2\n",
    "[1, 0], # Input 3\n",
    "[1, 1]]) # Input 4\n",
    "y = np.array([0, 1, 1, 1]) # OR outputs\n",
    "# Build a Multilayer Perceptron (MLP) with 1 hidden layer\n",
    "model = Sequential()\n",
    "# Input layer (2 neurons for the 2 inputs) -> Hidden layer with 2 neurons -> Output laye\n",
    "model.add(Dense(units=2, input_dim=2, activation='relu')) # Hidden layer with ReLU acti\n",
    "model.add(Dense(units=1, activation='sigmoid')) # Output layer with Sigmoid activation\n",
    "# Compile the model\n",
    "model.compile(optimizer='adam', loss='binary_crossentropy', metrics=['accuracy'])\n",
    "# Train the model\n",
    "model.fit(X, y, epochs=1000, verbose=0)\n",
    "# Evaluate the model\n",
    "loss, accuracy = model.evaluate(X, y)\n",
    "print(f\"Model accuracy: {accuracy*100:.2f}%\")\n",
    "# Make predictions\n",
    "predictions = model.predict(X)\n",
    "predictions = (predictions > 0.5).astype(int) # Convert output probabilities to 0 or 1\n",
    "print(\"Predictions:\")\n",
    "print(predictions)\n",
    "print()"
   ]
  }
 ],
 "metadata": {
  "kernelspec": {
   "display_name": "Python 3 (ipykernel)",
   "language": "python",
   "name": "python3"
  },
  "language_info": {
   "codemirror_mode": {
    "name": "ipython",
    "version": 3
   },
   "file_extension": ".py",
   "mimetype": "text/x-python",
   "name": "python",
   "nbconvert_exporter": "python",
   "pygments_lexer": "ipython3",
   "version": "3.11.9"
  }
 },
 "nbformat": 4,
 "nbformat_minor": 5
}
